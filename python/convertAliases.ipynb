{
 "cells": [
  {
   "cell_type": "code",
   "execution_count": 1,
   "metadata": {},
   "outputs": [],
   "source": [
    "#This is a helper function file to convert back and forth between named and numerical aliases."
   ]
  },
  {
   "cell_type": "code",
   "execution_count": 2,
   "metadata": {},
   "outputs": [],
   "source": [
    "#Load Modules\n",
    "import numpy as np\n",
    "import matplotlib.pyplot as plt\n",
    "import pandas as pd\n",
    "from numpy import loadtxt"
   ]
  },
  {
   "cell_type": "code",
   "execution_count": 3,
   "metadata": {},
   "outputs": [],
   "source": [
    "##Load the dataset\n",
    "dataset = pd.read_csv('../data/survey2_ABS_v1.xls')"
   ]
  },
  {
   "cell_type": "code",
   "execution_count": 4,
   "metadata": {},
   "outputs": [
    {
     "data": {
      "text/html": [
       "<div>\n",
       "<style scoped>\n",
       "    .dataframe tbody tr th:only-of-type {\n",
       "        vertical-align: middle;\n",
       "    }\n",
       "\n",
       "    .dataframe tbody tr th {\n",
       "        vertical-align: top;\n",
       "    }\n",
       "\n",
       "    .dataframe thead th {\n",
       "        text-align: right;\n",
       "    }\n",
       "</style>\n",
       "<table border=\"1\" class=\"dataframe\">\n",
       "  <thead>\n",
       "    <tr style=\"text-align: right;\">\n",
       "      <th></th>\n",
       "      <th>Question1</th>\n",
       "      <th>Question2</th>\n",
       "      <th>Question3</th>\n",
       "      <th>Question4</th>\n",
       "      <th>Question5</th>\n",
       "      <th>Question6</th>\n",
       "      <th>Question7</th>\n",
       "      <th>Question8</th>\n",
       "    </tr>\n",
       "  </thead>\n",
       "  <tbody>\n",
       "    <tr>\n",
       "      <th>0</th>\n",
       "      <td>1</td>\n",
       "      <td>0</td>\n",
       "      <td>1</td>\n",
       "      <td>1</td>\n",
       "      <td>0</td>\n",
       "      <td>1</td>\n",
       "      <td>1</td>\n",
       "      <td>0</td>\n",
       "    </tr>\n",
       "    <tr>\n",
       "      <th>1</th>\n",
       "      <td>0</td>\n",
       "      <td>0</td>\n",
       "      <td>0</td>\n",
       "      <td>0</td>\n",
       "      <td>0</td>\n",
       "      <td>0</td>\n",
       "      <td>1</td>\n",
       "      <td>0</td>\n",
       "    </tr>\n",
       "    <tr>\n",
       "      <th>2</th>\n",
       "      <td>1</td>\n",
       "      <td>0</td>\n",
       "      <td>1</td>\n",
       "      <td>1</td>\n",
       "      <td>0</td>\n",
       "      <td>0</td>\n",
       "      <td>1</td>\n",
       "      <td>0</td>\n",
       "    </tr>\n",
       "    <tr>\n",
       "      <th>3</th>\n",
       "      <td>0</td>\n",
       "      <td>0</td>\n",
       "      <td>1</td>\n",
       "      <td>1</td>\n",
       "      <td>1</td>\n",
       "      <td>0</td>\n",
       "      <td>1</td>\n",
       "      <td>0</td>\n",
       "    </tr>\n",
       "    <tr>\n",
       "      <th>4</th>\n",
       "      <td>1</td>\n",
       "      <td>1</td>\n",
       "      <td>0</td>\n",
       "      <td>1</td>\n",
       "      <td>0</td>\n",
       "      <td>0</td>\n",
       "      <td>1</td>\n",
       "      <td>0</td>\n",
       "    </tr>\n",
       "    <tr>\n",
       "      <th>...</th>\n",
       "      <td>...</td>\n",
       "      <td>...</td>\n",
       "      <td>...</td>\n",
       "      <td>...</td>\n",
       "      <td>...</td>\n",
       "      <td>...</td>\n",
       "      <td>...</td>\n",
       "      <td>...</td>\n",
       "    </tr>\n",
       "    <tr>\n",
       "      <th>121</th>\n",
       "      <td>1</td>\n",
       "      <td>0</td>\n",
       "      <td>0</td>\n",
       "      <td>0</td>\n",
       "      <td>1</td>\n",
       "      <td>0</td>\n",
       "      <td>0</td>\n",
       "      <td>1</td>\n",
       "    </tr>\n",
       "    <tr>\n",
       "      <th>122</th>\n",
       "      <td>1</td>\n",
       "      <td>0</td>\n",
       "      <td>0</td>\n",
       "      <td>0</td>\n",
       "      <td>0</td>\n",
       "      <td>1</td>\n",
       "      <td>0</td>\n",
       "      <td>1</td>\n",
       "    </tr>\n",
       "    <tr>\n",
       "      <th>123</th>\n",
       "      <td>0</td>\n",
       "      <td>0</td>\n",
       "      <td>0</td>\n",
       "      <td>1</td>\n",
       "      <td>0</td>\n",
       "      <td>0</td>\n",
       "      <td>0</td>\n",
       "      <td>1</td>\n",
       "    </tr>\n",
       "    <tr>\n",
       "      <th>124</th>\n",
       "      <td>0</td>\n",
       "      <td>1</td>\n",
       "      <td>0</td>\n",
       "      <td>1</td>\n",
       "      <td>1</td>\n",
       "      <td>1</td>\n",
       "      <td>0</td>\n",
       "      <td>1</td>\n",
       "    </tr>\n",
       "    <tr>\n",
       "      <th>125</th>\n",
       "      <td>1</td>\n",
       "      <td>1</td>\n",
       "      <td>0</td>\n",
       "      <td>0</td>\n",
       "      <td>1</td>\n",
       "      <td>0</td>\n",
       "      <td>0</td>\n",
       "      <td>1</td>\n",
       "    </tr>\n",
       "  </tbody>\n",
       "</table>\n",
       "<p>126 rows × 8 columns</p>\n",
       "</div>"
      ],
      "text/plain": [
       "     Question1  Question2  Question3  Question4  Question5  Question6  \\\n",
       "0            1          0          1          1          0          1   \n",
       "1            0          0          0          0          0          0   \n",
       "2            1          0          1          1          0          0   \n",
       "3            0          0          1          1          1          0   \n",
       "4            1          1          0          1          0          0   \n",
       "..         ...        ...        ...        ...        ...        ...   \n",
       "121          1          0          0          0          1          0   \n",
       "122          1          0          0          0          0          1   \n",
       "123          0          0          0          1          0          0   \n",
       "124          0          1          0          1          1          1   \n",
       "125          1          1          0          0          1          0   \n",
       "\n",
       "     Question7  Question8  \n",
       "0            1          0  \n",
       "1            1          0  \n",
       "2            1          0  \n",
       "3            1          0  \n",
       "4            1          0  \n",
       "..         ...        ...  \n",
       "121          0          1  \n",
       "122          0          1  \n",
       "123          0          1  \n",
       "124          0          1  \n",
       "125          0          1  \n",
       "\n",
       "[126 rows x 8 columns]"
      ]
     },
     "execution_count": 4,
     "metadata": {},
     "output_type": "execute_result"
    }
   ],
   "source": [
    "dataset"
   ]
  },
  {
   "cell_type": "code",
   "execution_count": 5,
   "metadata": {},
   "outputs": [],
   "source": [
    "#Mapping Present\n",
    "#Ques1 :  0 - Not_Specific , 1 - Night_Time , 2 - Day_Time\n",
    "#Ques2 :  0 - Yes , 1 - No\n",
    "#Ques3 :  0 - Often , 1 - Seldom\n",
    "#Ques4 :  0 - Often , 1 - Seldom\n",
    "#Ques5 :  0 - Yes,    1 - No\n",
    "#Ques6 :  0 - Under_Graduate, 1 - Post_Graduate\n",
    "#Ques7 :  0 - Qualitative, 1 - Quantitative\n",
    "#Ques8 :  0 - Synchronous, 1 - Asynchronous"
   ]
  },
  {
   "cell_type": "code",
   "execution_count": 6,
   "metadata": {},
   "outputs": [],
   "source": [
    "#Transform individual column of the data set.\n",
    "def transform_NumtToCat(dataset):\n",
    "    dataset.loc[dataset.Question1==0,\"Question1\"] =\"Not_Specific\"\n",
    "    dataset.loc[dataset.Question1==1,\"Question1\"] =\"Night_Time\"\n",
    "    dataset.loc[dataset.Question1==2,\"Question1\"] =\"Day_Time\"\n",
    "\n",
    "    dataset.loc[dataset.Question2==0,\"Question2\"] =\"Yes\"\n",
    "    dataset.loc[dataset.Question2==1,\"Question2\"] =\"No\"\n",
    "\n",
    "    dataset.loc[dataset.Question3==0,\"Question3\"] =\"Often\"\n",
    "    dataset.loc[dataset.Question3==1,\"Question3\"] =\"Seldom\"\n",
    "\n",
    "    dataset.loc[dataset.Question4==0,\"Question4\"] =\"Often\"\n",
    "    dataset.loc[dataset.Question4==1,\"Question4\"] =\"Seldom\"\n",
    "\n",
    "    dataset.loc[dataset.Question5==0,\"Question5\"] =\"Yes\"\n",
    "    dataset.loc[dataset.Question5==1,\"Question5\"] =\"No\"\n",
    "\n",
    "    dataset.loc[dataset.Question6==0,\"Question6\"] =\"Under_Graudate\"\n",
    "    dataset.loc[dataset.Question6==1,\"Question6\"] =\"Post_Graduate\"\n",
    "\n",
    "    dataset.loc[dataset.Question7==0,\"Question7\"] =\"Qualitative\"\n",
    "    dataset.loc[dataset.Question7==1,\"Question7\"] =\"Quanitative\"\n",
    "\n",
    "    dataset.loc[dataset.Question8==0,\"Question8\"] =\"Synchronous\"\n",
    "    dataset.loc[dataset.Question8==1,\"Question8\"] =\"Asynchronous\"\n",
    "    "
   ]
  },
  {
   "cell_type": "code",
   "execution_count": 7,
   "metadata": {},
   "outputs": [
    {
     "data": {
      "text/html": [
       "<div>\n",
       "<style scoped>\n",
       "    .dataframe tbody tr th:only-of-type {\n",
       "        vertical-align: middle;\n",
       "    }\n",
       "\n",
       "    .dataframe tbody tr th {\n",
       "        vertical-align: top;\n",
       "    }\n",
       "\n",
       "    .dataframe thead th {\n",
       "        text-align: right;\n",
       "    }\n",
       "</style>\n",
       "<table border=\"1\" class=\"dataframe\">\n",
       "  <thead>\n",
       "    <tr style=\"text-align: right;\">\n",
       "      <th></th>\n",
       "      <th>Question1</th>\n",
       "      <th>Question2</th>\n",
       "      <th>Question3</th>\n",
       "      <th>Question4</th>\n",
       "      <th>Question5</th>\n",
       "      <th>Question6</th>\n",
       "      <th>Question7</th>\n",
       "      <th>Question8</th>\n",
       "    </tr>\n",
       "  </thead>\n",
       "  <tbody>\n",
       "    <tr>\n",
       "      <th>0</th>\n",
       "      <td>Night_Time</td>\n",
       "      <td>Yes</td>\n",
       "      <td>Seldom</td>\n",
       "      <td>Seldom</td>\n",
       "      <td>Yes</td>\n",
       "      <td>Post_Graduate</td>\n",
       "      <td>Quanitative</td>\n",
       "      <td>Synchronous</td>\n",
       "    </tr>\n",
       "    <tr>\n",
       "      <th>1</th>\n",
       "      <td>Not_Specific</td>\n",
       "      <td>Yes</td>\n",
       "      <td>Often</td>\n",
       "      <td>Often</td>\n",
       "      <td>Yes</td>\n",
       "      <td>Under_Graudate</td>\n",
       "      <td>Quanitative</td>\n",
       "      <td>Synchronous</td>\n",
       "    </tr>\n",
       "    <tr>\n",
       "      <th>2</th>\n",
       "      <td>Night_Time</td>\n",
       "      <td>Yes</td>\n",
       "      <td>Seldom</td>\n",
       "      <td>Seldom</td>\n",
       "      <td>Yes</td>\n",
       "      <td>Under_Graudate</td>\n",
       "      <td>Quanitative</td>\n",
       "      <td>Synchronous</td>\n",
       "    </tr>\n",
       "    <tr>\n",
       "      <th>3</th>\n",
       "      <td>Not_Specific</td>\n",
       "      <td>Yes</td>\n",
       "      <td>Seldom</td>\n",
       "      <td>Seldom</td>\n",
       "      <td>No</td>\n",
       "      <td>Under_Graudate</td>\n",
       "      <td>Quanitative</td>\n",
       "      <td>Synchronous</td>\n",
       "    </tr>\n",
       "    <tr>\n",
       "      <th>4</th>\n",
       "      <td>Night_Time</td>\n",
       "      <td>No</td>\n",
       "      <td>Often</td>\n",
       "      <td>Seldom</td>\n",
       "      <td>Yes</td>\n",
       "      <td>Under_Graudate</td>\n",
       "      <td>Quanitative</td>\n",
       "      <td>Synchronous</td>\n",
       "    </tr>\n",
       "    <tr>\n",
       "      <th>...</th>\n",
       "      <td>...</td>\n",
       "      <td>...</td>\n",
       "      <td>...</td>\n",
       "      <td>...</td>\n",
       "      <td>...</td>\n",
       "      <td>...</td>\n",
       "      <td>...</td>\n",
       "      <td>...</td>\n",
       "    </tr>\n",
       "    <tr>\n",
       "      <th>121</th>\n",
       "      <td>Night_Time</td>\n",
       "      <td>Yes</td>\n",
       "      <td>Often</td>\n",
       "      <td>Often</td>\n",
       "      <td>No</td>\n",
       "      <td>Under_Graudate</td>\n",
       "      <td>Qualitative</td>\n",
       "      <td>Asynchronous</td>\n",
       "    </tr>\n",
       "    <tr>\n",
       "      <th>122</th>\n",
       "      <td>Night_Time</td>\n",
       "      <td>Yes</td>\n",
       "      <td>Often</td>\n",
       "      <td>Often</td>\n",
       "      <td>Yes</td>\n",
       "      <td>Post_Graduate</td>\n",
       "      <td>Qualitative</td>\n",
       "      <td>Asynchronous</td>\n",
       "    </tr>\n",
       "    <tr>\n",
       "      <th>123</th>\n",
       "      <td>Not_Specific</td>\n",
       "      <td>Yes</td>\n",
       "      <td>Often</td>\n",
       "      <td>Seldom</td>\n",
       "      <td>Yes</td>\n",
       "      <td>Under_Graudate</td>\n",
       "      <td>Qualitative</td>\n",
       "      <td>Asynchronous</td>\n",
       "    </tr>\n",
       "    <tr>\n",
       "      <th>124</th>\n",
       "      <td>Not_Specific</td>\n",
       "      <td>No</td>\n",
       "      <td>Often</td>\n",
       "      <td>Seldom</td>\n",
       "      <td>No</td>\n",
       "      <td>Post_Graduate</td>\n",
       "      <td>Qualitative</td>\n",
       "      <td>Asynchronous</td>\n",
       "    </tr>\n",
       "    <tr>\n",
       "      <th>125</th>\n",
       "      <td>Night_Time</td>\n",
       "      <td>No</td>\n",
       "      <td>Often</td>\n",
       "      <td>Often</td>\n",
       "      <td>No</td>\n",
       "      <td>Under_Graudate</td>\n",
       "      <td>Qualitative</td>\n",
       "      <td>Asynchronous</td>\n",
       "    </tr>\n",
       "  </tbody>\n",
       "</table>\n",
       "<p>126 rows × 8 columns</p>\n",
       "</div>"
      ],
      "text/plain": [
       "        Question1 Question2 Question3 Question4 Question5       Question6  \\\n",
       "0      Night_Time       Yes    Seldom    Seldom       Yes   Post_Graduate   \n",
       "1    Not_Specific       Yes     Often     Often       Yes  Under_Graudate   \n",
       "2      Night_Time       Yes    Seldom    Seldom       Yes  Under_Graudate   \n",
       "3    Not_Specific       Yes    Seldom    Seldom        No  Under_Graudate   \n",
       "4      Night_Time        No     Often    Seldom       Yes  Under_Graudate   \n",
       "..            ...       ...       ...       ...       ...             ...   \n",
       "121    Night_Time       Yes     Often     Often        No  Under_Graudate   \n",
       "122    Night_Time       Yes     Often     Often       Yes   Post_Graduate   \n",
       "123  Not_Specific       Yes     Often    Seldom       Yes  Under_Graudate   \n",
       "124  Not_Specific        No     Often    Seldom        No   Post_Graduate   \n",
       "125    Night_Time        No     Often     Often        No  Under_Graudate   \n",
       "\n",
       "       Question7     Question8  \n",
       "0    Quanitative   Synchronous  \n",
       "1    Quanitative   Synchronous  \n",
       "2    Quanitative   Synchronous  \n",
       "3    Quanitative   Synchronous  \n",
       "4    Quanitative   Synchronous  \n",
       "..           ...           ...  \n",
       "121  Qualitative  Asynchronous  \n",
       "122  Qualitative  Asynchronous  \n",
       "123  Qualitative  Asynchronous  \n",
       "124  Qualitative  Asynchronous  \n",
       "125  Qualitative  Asynchronous  \n",
       "\n",
       "[126 rows x 8 columns]"
      ]
     },
     "execution_count": 7,
     "metadata": {},
     "output_type": "execute_result"
    }
   ],
   "source": [
    "transform_NumtToCat(dataset)\n",
    "dataset"
   ]
  },
  {
   "cell_type": "code",
   "execution_count": 8,
   "metadata": {},
   "outputs": [],
   "source": [
    "#Save the Categorical Data.\n",
    "# dataset.to_csv('categoricalABS.csv')"
   ]
  },
  {
   "cell_type": "markdown",
   "metadata": {},
   "source": [
    "# Data Preparation Ends"
   ]
  },
  {
   "cell_type": "markdown",
   "metadata": {},
   "source": [
    "# Pie Chart Analysis Begins"
   ]
  },
  {
   "cell_type": "markdown",
   "metadata": {},
   "source": [
    "## Pie Chart1 : Immediate Feedback vs Mode of Learning.\n",
    "### Immediate Feedback Refers to Question 5"
   ]
  },
  {
   "cell_type": "code",
   "execution_count": 9,
   "metadata": {},
   "outputs": [
    {
     "data": {
      "text/plain": [
       "Question5\n",
       "No     17\n",
       "Yes     6\n",
       "Name: Question8, dtype: int64"
      ]
     },
     "execution_count": 9,
     "metadata": {},
     "output_type": "execute_result"
    }
   ],
   "source": [
    "#Pie Chart Analysis\n",
    "#groupby the data by Type of learning mode preferred\n",
    "data1 = dataset.loc[dataset.Question8 == \"Asynchronous\"].groupby(\"Question5\")[\"Question8\"].count()\n",
    "data1"
   ]
  },
  {
   "cell_type": "code",
   "execution_count": 10,
   "metadata": {},
   "outputs": [
    {
     "data": {
      "text/plain": [
       "<matplotlib.axes._subplots.AxesSubplot at 0x7f060f2ea940>"
      ]
     },
     "execution_count": 10,
     "metadata": {},
     "output_type": "execute_result"
    },
    {
     "data": {
      "image/png": "[encoded data removed]",
      "text/plain": [
       "<Figure size 432x288 with 1 Axes>"
      ]
     },
     "metadata": {},
     "output_type": "display_data"
    }
   ],
   "source": [
    "data1.plot.pie(autopct=\"%.1f%%\")"
   ]
  },
  {
   "cell_type": "code",
   "execution_count": 11,
   "metadata": {},
   "outputs": [
    {
     "data": {
      "text/plain": [
       "Question5\n",
       "No      4\n",
       "Yes    99\n",
       "Name: Question8, dtype: int64"
      ]
     },
     "execution_count": 11,
     "metadata": {},
     "output_type": "execute_result"
    }
   ],
   "source": [
    "data1 = (dataset.loc[dataset.Question8 == \"Synchronous\"]).groupby(\"Question5\")[\"Question8\"].count()\n",
    "data1"
   ]
  },
  {
   "cell_type": "code",
   "execution_count": 12,
   "metadata": {},
   "outputs": [
    {
     "data": {
      "text/plain": [
       "<matplotlib.axes._subplots.AxesSubplot at 0x7f060f214940>"
      ]
     },
     "execution_count": 12,
     "metadata": {},
     "output_type": "execute_result"
    },
    {
     "data": {
      "image/png": "[encoded data removed]",
      "text/plain": [
       "<Figure size 432x288 with 1 Axes>"
      ]
     },
     "metadata": {},
     "output_type": "display_data"
    }
   ],
   "source": [
    "data1.plot.pie(autopct=\"%.1f%%\")"
   ]
  },
  {
   "cell_type": "markdown",
   "metadata": {},
   "source": [
    "### Pie Chart1 : Ends"
   ]
  },
  {
   "cell_type": "markdown",
   "metadata": {},
   "source": [
    "# Pie Chart2 : Multi Tasking vs Mode of Learning.\n",
    "### Multi Tasking Refers to Question 4"
   ]
  },
  {
   "cell_type": "code",
   "execution_count": 13,
   "metadata": {},
   "outputs": [
    {
     "data": {
      "text/plain": [
       "Question4\n",
       "Often     14\n",
       "Seldom     9\n",
       "Name: Question8, dtype: int64"
      ]
     },
     "execution_count": 13,
     "metadata": {},
     "output_type": "execute_result"
    }
   ],
   "source": [
    "data2 = dataset.loc[dataset.Question8 == \"Asynchronous\"].groupby(\"Question4\")[\"Question8\"].count()\n",
    "data2"
   ]
  },
  {
   "cell_type": "code",
   "execution_count": 14,
   "metadata": {},
   "outputs": [
    {
     "data": {
      "text/plain": [
       "<matplotlib.axes._subplots.AxesSubplot at 0x7f060f1d74c0>"
      ]
     },
     "execution_count": 14,
     "metadata": {},
     "output_type": "execute_result"
    },
    {
     "data": {
      "image/png": "[encoded data removed]",
      "text/plain": [
       "<Figure size 432x288 with 1 Axes>"
      ]
     },
     "metadata": {},
     "output_type": "display_data"
    }
   ],
   "source": [
    "data2.plot.pie(autopct=\"%.1f%%\")"
   ]
  },
  {
   "cell_type": "code",
   "execution_count": 15,
   "metadata": {},
   "outputs": [
    {
     "data": {
      "text/plain": [
       "<matplotlib.axes._subplots.AxesSubplot at 0x7f060f19e400>"
      ]
     },
     "execution_count": 15,
     "metadata": {},
     "output_type": "execute_result"
    },
    {
     "data": {
      "image/png": "[encoded data removed]",
      "text/plain": [
       "<Figure size 432x288 with 1 Axes>"
      ]
     },
     "metadata": {},
     "output_type": "display_data"
    }
   ],
   "source": [
    "data2 = (dataset.loc[dataset.Question8 == \"Synchronous\"]).groupby(\"Question4\")[\"Question8\"].count()\n",
    "data2\n",
    "data2.plot.pie(autopct=\"%.1f%%\")"
   ]
  },
  {
   "cell_type": "markdown",
   "metadata": {},
   "source": [
    "### Pie Chart2 : Ends"
   ]
  },
  {
   "cell_type": "markdown",
   "metadata": {},
   "source": [
    "# Pie Chart3 : Multi Tasking vs Mode of Learning.\n",
    "### Multi Tasking Refers to Question 7"
   ]
  },
  {
   "cell_type": "code",
   "execution_count": 17,
   "metadata": {},
   "outputs": [
    {
     "data": {
      "text/plain": [
       "<matplotlib.axes._subplots.AxesSubplot at 0x7f060f11f820>"
      ]
     },
     "execution_count": 17,
     "metadata": {},
     "output_type": "execute_result"
    },
    {
     "data": {
      "image/png": "[encoded data removed]",
      "text/plain": [
       "<Figure size 432x288 with 1 Axes>"
      ]
     },
     "metadata": {},
     "output_type": "display_data"
    }
   ],
   "source": [
    "data3 = dataset.loc[dataset.Question8 == \"Asynchronous\"].groupby(\"Question7\")[\"Question8\"].count()\n",
    "data3\n",
    "data3.plot.pie(autopct=\"%.1f%%\")"
   ]
  },
  {
   "cell_type": "code",
   "execution_count": 18,
   "metadata": {},
   "outputs": [
    {
     "data": {
      "text/plain": [
       "<matplotlib.axes._subplots.AxesSubplot at 0x7f060f1934c0>"
      ]
     },
     "execution_count": 18,
     "metadata": {},
     "output_type": "execute_result"
    },
    {
     "data": {
      "image/png": "[encoded data removed]",
      "text/plain": [
       "<Figure size 432x288 with 1 Axes>"
      ]
     },
     "metadata": {},
     "output_type": "display_data"
    }
   ],
   "source": [
    "data3 = dataset.loc[dataset.Question8 == \"Synchronous\"].groupby(\"Question7\")[\"Question8\"].count()\n",
    "data3\n",
    "data3.plot.pie(autopct=\"%.1f%%\")"
   ]
  },
  {
   "cell_type": "code",
   "execution_count": null,
   "metadata": {},
   "outputs": [],
   "source": []
  }
 ],
 "metadata": {
  "kernelspec": {
   "display_name": "Python 3",
   "language": "python",
   "name": "python3"
  },
  "language_info": {
   "codemirror_mode": {
    "name": "ipython",
    "version": 3
   },
   "file_extension": ".py",
   "mimetype": "text/x-python",
   "name": "python",
   "nbconvert_exporter": "python",
   "pygments_lexer": "ipython3",
   "version": "3.8.5"
  }
 },
 "nbformat": 4,
 "nbformat_minor": 4
}
